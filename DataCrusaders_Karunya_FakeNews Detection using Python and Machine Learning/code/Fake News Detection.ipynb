{
 "cells": [
  {
   "cell_type": "markdown",
   "id": "154613e8-aad0-48b8-b48a-336da6f064ed",
   "metadata": {},
   "source": [
    "<font size =\"4\">**Importing all the libraries**</font>"
   ]
  },
  {
   "cell_type": "code",
   "execution_count": 1,
   "id": "2cd6f8d3-9ed7-4241-afc0-f277c177a2d7",
   "metadata": {},
   "outputs": [
    {
     "name": "stderr",
     "output_type": "stream",
     "text": [
      "[nltk_data] Downloading package punkt to /home/u194147/nltk_data...\n",
      "[nltk_data]   Package punkt is already up-to-date!\n",
      "[nltk_data] Downloading package stopwords to\n",
      "[nltk_data]     /home/u194147/nltk_data...\n",
      "[nltk_data]   Package stopwords is already up-to-date!\n"
     ]
    }
   ],
   "source": [
    "import pandas as pd\n",
    "import seaborn as sns\n",
    "import matplotlib.pyplot as plt\n",
    "from tqdm import tqdm\n",
    "import re\n",
    "import nltk\n",
    "import os\n",
    "nltk.download('punkt')\n",
    "nltk.download('stopwords')\n",
    "from nltk.tokenize import word_tokenize\n",
    "from sklearn.model_selection import train_test_split\n",
    "from sklearn.metrics import accuracy_score\n",
    "from sklearn.linear_model import LogisticRegression"
   ]
  },
  {
   "cell_type": "markdown",
   "id": "fa79260e-499f-4c75-8738-dc7ccae00ece",
   "metadata": {},
   "source": [
    "<font size =\"4\">**Downloading the dataset and extracting it to the appropriate data directory.**</font>"
   ]
  },
  {
   "cell_type": "code",
   "execution_count": 2,
   "id": "d5ea95d6-479f-4d44-b030-e01765f15bc3",
   "metadata": {},
   "outputs": [],
   "source": [
    "data_directory = 'data/'\n",
    "if not os.path.exists(data_directory):\n",
    "    !mkdir data/\n",
    "    !wget https://onlineacademiccommunity.uvic.ca/isot/wp-content/uploads/sites/7295/2023/03/News-_dataset.zip --directory-prefix=data/\n",
    "    !unzip data/News-_dataset.zip -d data/"
   ]
  },
  {
   "cell_type": "markdown",
   "id": "399e8186-b94c-4f12-ae71-dd37341bb3ca",
   "metadata": {},
   "source": [
    "<font size=\"4\">**Read the data csv file**</font>"
   ]
  },
  {
   "cell_type": "code",
   "execution_count": 10,
   "id": "885fb660-a2c1-4cd8-b6d6-43bff7bab973",
   "metadata": {},
   "outputs": [
    {
     "data": {
      "text/html": [
       "<div>\n",
       "<style scoped>\n",
       "    .dataframe tbody tr th:only-of-type {\n",
       "        vertical-align: middle;\n",
       "    }\n",
       "\n",
       "    .dataframe tbody tr th {\n",
       "        vertical-align: top;\n",
       "    }\n",
       "\n",
       "    .dataframe thead th {\n",
       "        text-align: right;\n",
       "    }\n",
       "</style>\n",
       "<table border=\"1\" class=\"dataframe\">\n",
       "  <thead>\n",
       "    <tr style=\"text-align: right;\">\n",
       "      <th></th>\n",
       "      <th>title</th>\n",
       "      <th>text</th>\n",
       "      <th>subject</th>\n",
       "      <th>date</th>\n",
       "    </tr>\n",
       "  </thead>\n",
       "  <tbody>\n",
       "    <tr>\n",
       "      <th>0</th>\n",
       "      <td>Donald Trump Sends Out Embarrassing New Year’...</td>\n",
       "      <td>Donald Trump just couldn t wish all Americans ...</td>\n",
       "      <td>News</td>\n",
       "      <td>December 31, 2017</td>\n",
       "    </tr>\n",
       "    <tr>\n",
       "      <th>1</th>\n",
       "      <td>Drunk Bragging Trump Staffer Started Russian ...</td>\n",
       "      <td>House Intelligence Committee Chairman Devin Nu...</td>\n",
       "      <td>News</td>\n",
       "      <td>December 31, 2017</td>\n",
       "    </tr>\n",
       "    <tr>\n",
       "      <th>2</th>\n",
       "      <td>Sheriff David Clarke Becomes An Internet Joke...</td>\n",
       "      <td>On Friday, it was revealed that former Milwauk...</td>\n",
       "      <td>News</td>\n",
       "      <td>December 30, 2017</td>\n",
       "    </tr>\n",
       "    <tr>\n",
       "      <th>3</th>\n",
       "      <td>Trump Is So Obsessed He Even Has Obama’s Name...</td>\n",
       "      <td>On Christmas day, Donald Trump announced that ...</td>\n",
       "      <td>News</td>\n",
       "      <td>December 29, 2017</td>\n",
       "    </tr>\n",
       "    <tr>\n",
       "      <th>4</th>\n",
       "      <td>Pope Francis Just Called Out Donald Trump Dur...</td>\n",
       "      <td>Pope Francis used his annual Christmas Day mes...</td>\n",
       "      <td>News</td>\n",
       "      <td>December 25, 2017</td>\n",
       "    </tr>\n",
       "  </tbody>\n",
       "</table>\n",
       "</div>"
      ],
      "text/plain": [
       "                                               title  \\\n",
       "0   Donald Trump Sends Out Embarrassing New Year’...   \n",
       "1   Drunk Bragging Trump Staffer Started Russian ...   \n",
       "2   Sheriff David Clarke Becomes An Internet Joke...   \n",
       "3   Trump Is So Obsessed He Even Has Obama’s Name...   \n",
       "4   Pope Francis Just Called Out Donald Trump Dur...   \n",
       "\n",
       "                                                text subject  \\\n",
       "0  Donald Trump just couldn t wish all Americans ...    News   \n",
       "1  House Intelligence Committee Chairman Devin Nu...    News   \n",
       "2  On Friday, it was revealed that former Milwauk...    News   \n",
       "3  On Christmas day, Donald Trump announced that ...    News   \n",
       "4  Pope Francis used his annual Christmas Day mes...    News   \n",
       "\n",
       "                date  \n",
       "0  December 31, 2017  \n",
       "1  December 31, 2017  \n",
       "2  December 30, 2017  \n",
       "3  December 29, 2017  \n",
       "4  December 25, 2017  "
      ]
     },
     "execution_count": 10,
     "metadata": {},
     "output_type": "execute_result"
    }
   ],
   "source": [
    "fake_data = pd.read_csv('data/Fake.csv')\n",
    "fake_data.head()"
   ]
  },
  {
   "cell_type": "code",
   "execution_count": 11,
   "id": "cb2a7993-0634-48e6-9bdf-7316c5c2ea02",
   "metadata": {},
   "outputs": [
    {
     "data": {
      "text/html": [
       "<div>\n",
       "<style scoped>\n",
       "    .dataframe tbody tr th:only-of-type {\n",
       "        vertical-align: middle;\n",
       "    }\n",
       "\n",
       "    .dataframe tbody tr th {\n",
       "        vertical-align: top;\n",
       "    }\n",
       "\n",
       "    .dataframe thead th {\n",
       "        text-align: right;\n",
       "    }\n",
       "</style>\n",
       "<table border=\"1\" class=\"dataframe\">\n",
       "  <thead>\n",
       "    <tr style=\"text-align: right;\">\n",
       "      <th></th>\n",
       "      <th>title</th>\n",
       "      <th>text</th>\n",
       "      <th>subject</th>\n",
       "      <th>date</th>\n",
       "    </tr>\n",
       "  </thead>\n",
       "  <tbody>\n",
       "    <tr>\n",
       "      <th>0</th>\n",
       "      <td>As U.S. budget fight looms, Republicans flip t...</td>\n",
       "      <td>WASHINGTON (Reuters) - The head of a conservat...</td>\n",
       "      <td>politicsNews</td>\n",
       "      <td>December 31, 2017</td>\n",
       "    </tr>\n",
       "    <tr>\n",
       "      <th>1</th>\n",
       "      <td>U.S. military to accept transgender recruits o...</td>\n",
       "      <td>WASHINGTON (Reuters) - Transgender people will...</td>\n",
       "      <td>politicsNews</td>\n",
       "      <td>December 29, 2017</td>\n",
       "    </tr>\n",
       "    <tr>\n",
       "      <th>2</th>\n",
       "      <td>Senior U.S. Republican senator: 'Let Mr. Muell...</td>\n",
       "      <td>WASHINGTON (Reuters) - The special counsel inv...</td>\n",
       "      <td>politicsNews</td>\n",
       "      <td>December 31, 2017</td>\n",
       "    </tr>\n",
       "    <tr>\n",
       "      <th>3</th>\n",
       "      <td>FBI Russia probe helped by Australian diplomat...</td>\n",
       "      <td>WASHINGTON (Reuters) - Trump campaign adviser ...</td>\n",
       "      <td>politicsNews</td>\n",
       "      <td>December 30, 2017</td>\n",
       "    </tr>\n",
       "    <tr>\n",
       "      <th>4</th>\n",
       "      <td>Trump wants Postal Service to charge 'much mor...</td>\n",
       "      <td>SEATTLE/WASHINGTON (Reuters) - President Donal...</td>\n",
       "      <td>politicsNews</td>\n",
       "      <td>December 29, 2017</td>\n",
       "    </tr>\n",
       "  </tbody>\n",
       "</table>\n",
       "</div>"
      ],
      "text/plain": [
       "                                               title  \\\n",
       "0  As U.S. budget fight looms, Republicans flip t...   \n",
       "1  U.S. military to accept transgender recruits o...   \n",
       "2  Senior U.S. Republican senator: 'Let Mr. Muell...   \n",
       "3  FBI Russia probe helped by Australian diplomat...   \n",
       "4  Trump wants Postal Service to charge 'much mor...   \n",
       "\n",
       "                                                text       subject  \\\n",
       "0  WASHINGTON (Reuters) - The head of a conservat...  politicsNews   \n",
       "1  WASHINGTON (Reuters) - Transgender people will...  politicsNews   \n",
       "2  WASHINGTON (Reuters) - The special counsel inv...  politicsNews   \n",
       "3  WASHINGTON (Reuters) - Trump campaign adviser ...  politicsNews   \n",
       "4  SEATTLE/WASHINGTON (Reuters) - President Donal...  politicsNews   \n",
       "\n",
       "                 date  \n",
       "0  December 31, 2017   \n",
       "1  December 29, 2017   \n",
       "2  December 31, 2017   \n",
       "3  December 30, 2017   \n",
       "4  December 29, 2017   "
      ]
     },
     "execution_count": 11,
     "metadata": {},
     "output_type": "execute_result"
    }
   ],
   "source": [
    "true_data = pd.read_csv('data/True.csv')\n",
    "true_data.head()"
   ]
  },
  {
   "cell_type": "markdown",
   "id": "e63f9f67-ac53-46cc-abc8-0d14b048fb2a",
   "metadata": {},
   "source": [
    "Assigning Classes to the Dataset"
   ]
  },
  {
   "cell_type": "code",
   "execution_count": 12,
   "id": "13c6957f-797b-4fe2-8b2a-daa10f157765",
   "metadata": {},
   "outputs": [],
   "source": [
    "true_data[\"label\"] = 1\n",
    "fake_data[\"label\"] = 0"
   ]
  },
  {
   "cell_type": "markdown",
   "id": "5737d553-e902-4c2e-8e07-152bd39758b6",
   "metadata": {},
   "source": [
    "Merging Both the Dataset"
   ]
  },
  {
   "cell_type": "code",
   "execution_count": 13,
   "id": "c9fde258-6357-4c61-b65a-1511ef8d9f5f",
   "metadata": {},
   "outputs": [],
   "source": [
    "data = pd.concat([true_data, fake_data], axis=0)"
   ]
  },
  {
   "cell_type": "markdown",
   "id": "a43f1432-f622-4f55-814b-beba9d486fdb",
   "metadata": {},
   "source": [
    "Visualization of the text data based on subject column"
   ]
  },
  {
   "cell_type": "code",
   "execution_count": 14,
   "id": "934fe91d-e4ce-4a1d-b31f-1baf6d9a912c",
   "metadata": {},
   "outputs": [
    {
     "data": {
      "text/plain": [
       "[Text(0, 0, 'politicsNews'),\n",
       " Text(1, 0, 'worldnews'),\n",
       " Text(2, 0, 'News'),\n",
       " Text(3, 0, 'politics'),\n",
       " Text(4, 0, 'Government News'),\n",
       " Text(5, 0, 'left-news'),\n",
       " Text(6, 0, 'US_News'),\n",
       " Text(7, 0, 'Middle-east')]"
      ]
     },
     "execution_count": 14,
     "metadata": {},
     "output_type": "execute_result"
    },
    {
     "data": {
      "image/png": "[encoded data removed]",
      "text/plain": [
       "<Figure size 600x400 with 1 Axes>"
      ]
     },
     "metadata": {},
     "output_type": "display_data"
    }
   ],
   "source": [
    "plt.figure(figsize = (6,4))\n",
    "sns.set(style = \"whitegrid\",font_scale = 1.0)\n",
    "chart = sns.countplot(x = \"subject\", data = data)\n",
    "chart.set_xticklabels(chart.get_xticklabels(),rotation=90)"
   ]
  },
  {
   "cell_type": "markdown",
   "id": "8c238285-6127-49bd-a2a6-1500532fd0d5",
   "metadata": {},
   "source": [
    "<font size=\"4\">**Data preprocessing**</font>"
   ]
  },
  {
   "cell_type": "code",
   "execution_count": 15,
   "id": "9d8ede7a-b883-4d8e-8f9b-94fba6206b98",
   "metadata": {},
   "outputs": [],
   "source": [
    "data['text'] = data['title']+data['text']\n",
    "# Either you could data.drop[\"column names\"] or del data[\"column names\"]\n",
    "del data['title']\n",
    "del data['subject']\n",
    "del data['date']"
   ]
  },
  {
   "cell_type": "code",
   "execution_count": 16,
   "id": "de9c8121-f290-4020-9fbf-7ee074fafbf9",
   "metadata": {},
   "outputs": [
    {
     "data": {
      "text/html": [
       "<div>\n",
       "<style scoped>\n",
       "    .dataframe tbody tr th:only-of-type {\n",
       "        vertical-align: middle;\n",
       "    }\n",
       "\n",
       "    .dataframe tbody tr th {\n",
       "        vertical-align: top;\n",
       "    }\n",
       "\n",
       "    .dataframe thead th {\n",
       "        text-align: right;\n",
       "    }\n",
       "</style>\n",
       "<table border=\"1\" class=\"dataframe\">\n",
       "  <thead>\n",
       "    <tr style=\"text-align: right;\">\n",
       "      <th></th>\n",
       "      <th>text</th>\n",
       "      <th>label</th>\n",
       "    </tr>\n",
       "  </thead>\n",
       "  <tbody>\n",
       "    <tr>\n",
       "      <th>0</th>\n",
       "      <td>As U.S. budget fight looms, Republicans flip t...</td>\n",
       "      <td>1</td>\n",
       "    </tr>\n",
       "    <tr>\n",
       "      <th>1</th>\n",
       "      <td>U.S. military to accept transgender recruits o...</td>\n",
       "      <td>1</td>\n",
       "    </tr>\n",
       "    <tr>\n",
       "      <th>2</th>\n",
       "      <td>Senior U.S. Republican senator: 'Let Mr. Muell...</td>\n",
       "      <td>1</td>\n",
       "    </tr>\n",
       "    <tr>\n",
       "      <th>3</th>\n",
       "      <td>FBI Russia probe helped by Australian diplomat...</td>\n",
       "      <td>1</td>\n",
       "    </tr>\n",
       "    <tr>\n",
       "      <th>4</th>\n",
       "      <td>Trump wants Postal Service to charge 'much mor...</td>\n",
       "      <td>1</td>\n",
       "    </tr>\n",
       "  </tbody>\n",
       "</table>\n",
       "</div>"
      ],
      "text/plain": [
       "                                                text  label\n",
       "0  As U.S. budget fight looms, Republicans flip t...      1\n",
       "1  U.S. military to accept transgender recruits o...      1\n",
       "2  Senior U.S. Republican senator: 'Let Mr. Muell...      1\n",
       "3  FBI Russia probe helped by Australian diplomat...      1\n",
       "4  Trump wants Postal Service to charge 'much mor...      1"
      ]
     },
     "execution_count": 16,
     "metadata": {},
     "output_type": "execute_result"
    }
   ],
   "source": [
    "data.head()"
   ]
  },
  {
   "cell_type": "markdown",
   "id": "4652748f-4c28-43e0-ab74-68acb431d180",
   "metadata": {
    "tags": []
   },
   "source": [
    "As the title, author column will not going to be helpful in identification of the news. So, we can drop these column."
   ]
  },
  {
   "cell_type": "code",
   "execution_count": 17,
   "id": "4833cc13-bfbe-4447-b4b7-f4253170b193",
   "metadata": {},
   "outputs": [
    {
     "data": {
      "text/plain": [
       "(44898, 2)"
      ]
     },
     "execution_count": 17,
     "metadata": {},
     "output_type": "execute_result"
    }
   ],
   "source": [
    "data.shape"
   ]
  },
  {
   "cell_type": "markdown",
   "id": "74ed0eb9-3afb-43c5-b0a3-1a13dc63f239",
   "metadata": {},
   "source": [
    "Check if there is any null value (If so, then we will drop those rows)"
   ]
  },
  {
   "cell_type": "code",
   "execution_count": 18,
   "id": "32e91398-a10c-4ce9-a0b8-f1331e6482fc",
   "metadata": {},
   "outputs": [
    {
     "data": {
      "text/plain": [
       "text     0\n",
       "label    0\n",
       "dtype: int64"
      ]
     },
     "execution_count": 18,
     "metadata": {},
     "output_type": "execute_result"
    }
   ],
   "source": [
    "data.isnull().sum() # get the count of missing/NULL values for each column. if present remove missing values"
   ]
  },
  {
   "cell_type": "markdown",
   "id": "fc7c10c8-bca7-4fdd-971e-ee2e9276ff1f",
   "metadata": {},
   "source": [
    " Now we have to shuffle the dataset to prevent the model to get bias"
   ]
  },
  {
   "cell_type": "code",
   "execution_count": 19,
   "id": "60329ea8-7192-4c8d-aab6-a89fd7215f8d",
   "metadata": {},
   "outputs": [
    {
     "data": {
      "text/html": [
       "<div>\n",
       "<style scoped>\n",
       "    .dataframe tbody tr th:only-of-type {\n",
       "        vertical-align: middle;\n",
       "    }\n",
       "\n",
       "    .dataframe tbody tr th {\n",
       "        vertical-align: top;\n",
       "    }\n",
       "\n",
       "    .dataframe thead th {\n",
       "        text-align: right;\n",
       "    }\n",
       "</style>\n",
       "<table border=\"1\" class=\"dataframe\">\n",
       "  <thead>\n",
       "    <tr style=\"text-align: right;\">\n",
       "      <th></th>\n",
       "      <th>text</th>\n",
       "      <th>label</th>\n",
       "    </tr>\n",
       "  </thead>\n",
       "  <tbody>\n",
       "    <tr>\n",
       "      <th>0</th>\n",
       "      <td>WOW! SECRET SERVICE DIRECTOR Sets Record Strai...</td>\n",
       "      <td>0</td>\n",
       "    </tr>\n",
       "    <tr>\n",
       "      <th>1</th>\n",
       "      <td>German SPD says outcome uncertain for impendin...</td>\n",
       "      <td>1</td>\n",
       "    </tr>\n",
       "    <tr>\n",
       "      <th>2</th>\n",
       "      <td>Federal Judge Questions Trump’s Legitimacy Af...</td>\n",
       "      <td>0</td>\n",
       "    </tr>\n",
       "    <tr>\n",
       "      <th>3</th>\n",
       "      <td>Trump fights release of video testimony in fra...</td>\n",
       "      <td>1</td>\n",
       "    </tr>\n",
       "    <tr>\n",
       "      <th>4</th>\n",
       "      <td>Rubio gets boost from Republican endorsements,...</td>\n",
       "      <td>1</td>\n",
       "    </tr>\n",
       "  </tbody>\n",
       "</table>\n",
       "</div>"
      ],
      "text/plain": [
       "                                                text  label\n",
       "0  WOW! SECRET SERVICE DIRECTOR Sets Record Strai...      0\n",
       "1  German SPD says outcome uncertain for impendin...      1\n",
       "2   Federal Judge Questions Trump’s Legitimacy Af...      0\n",
       "3  Trump fights release of video testimony in fra...      1\n",
       "4  Rubio gets boost from Republican endorsements,...      1"
      ]
     },
     "execution_count": 19,
     "metadata": {},
     "output_type": "execute_result"
    }
   ],
   "source": [
    "#Shuffling the data by sampling it randomly, then resetting the index and dropping the previous index column\n",
    "data = data.sample(frac=1).reset_index(drop=True)\n",
    "data.head()"
   ]
  },
  {
   "cell_type": "markdown",
   "id": "600d4362-f13e-4b89-a2be-8fd43a3e899f",
   "metadata": {},
   "source": [
    "Now Let’s explore the unique values in the each category using below code."
   ]
  },
  {
   "cell_type": "code",
   "execution_count": 20,
   "id": "0d61e19e-af3b-4bd7-899a-42ad1a711df7",
   "metadata": {},
   "outputs": [
    {
     "data": {
      "text/plain": [
       "<Axes: xlabel='label', ylabel='count'>"
      ]
     },
     "execution_count": 20,
     "metadata": {},
     "output_type": "execute_result"
    },
    {
     "data": {
      "image/png": "[encoded data removed]",
      "text/plain": [
       "<Figure size 640x480 with 1 Axes>"
      ]
     },
     "metadata": {},
     "output_type": "display_data"
    }
   ],
   "source": [
    "sns.countplot(data=data,\n",
    "              x='label',\n",
    "              order=data['label'].value_counts().index)"
   ]
  },
  {
   "cell_type": "markdown",
   "id": "3c55ea2b-5787-4d3c-8e1e-515b9c0e30c5",
   "metadata": {},
   "source": [
    "<font size=\"4\">**Data Cleaning**</font>"
   ]
  },
  {
   "cell_type": "markdown",
   "id": "945c6dd0-a316-4c47-92bc-2339505de433",
   "metadata": {},
   "source": [
    "Once we have all the required modules, we can create a function name preprocess text. This function will preprocess all the data given as input."
   ]
  },
  {
   "cell_type": "code",
   "execution_count": 21,
   "id": "1ce24682-5781-4442-ab1f-4649469e1302",
   "metadata": {},
   "outputs": [
    {
     "name": "stdout",
     "output_type": "stream",
     "text": [
      "['i', 'me', 'my', 'myself', 'we', 'our', 'ours', 'ourselves', 'you', \"you're\", \"you've\", \"you'll\", \"you'd\", 'your', 'yours', 'yourself', 'yourselves', 'he', 'him', 'his', 'himself', 'she', \"she's\", 'her', 'hers', 'herself', 'it', \"it's\", 'its', 'itself', 'they', 'them', 'their', 'theirs', 'themselves', 'what', 'which', 'who', 'whom', 'this', 'that', \"that'll\", 'these', 'those', 'am', 'is', 'are', 'was', 'were', 'be', 'been', 'being', 'have', 'has', 'had', 'having', 'do', 'does', 'did', 'doing', 'a', 'an', 'the', 'and', 'but', 'if', 'or', 'because', 'as', 'until', 'while', 'of', 'at', 'by', 'for', 'with', 'about', 'against', 'between', 'into', 'through', 'during', 'before', 'after', 'above', 'below', 'to', 'from', 'up', 'down', 'in', 'out', 'on', 'off', 'over', 'under', 'again', 'further', 'then', 'once', 'here', 'there', 'when', 'where', 'why', 'how', 'all', 'any', 'both', 'each', 'few', 'more', 'most', 'other', 'some', 'such', 'no', 'nor', 'not', 'only', 'own', 'same', 'so', 'than', 'too', 'very', 's', 't', 'can', 'will', 'just', 'don', \"don't\", 'should', \"should've\", 'now', 'd', 'll', 'm', 'o', 're', 've', 'y', 'ain', 'aren', \"aren't\", 'couldn', \"couldn't\", 'didn', \"didn't\", 'doesn', \"doesn't\", 'hadn', \"hadn't\", 'hasn', \"hasn't\", 'haven', \"haven't\", 'isn', \"isn't\", 'ma', 'mightn', \"mightn't\", 'mustn', \"mustn't\", 'needn', \"needn't\", 'shan', \"shan't\", 'shouldn', \"shouldn't\", 'wasn', \"wasn't\", 'weren', \"weren't\", 'won', \"won't\", 'wouldn', \"wouldn't\"]\n"
     ]
    }
   ],
   "source": [
    "from nltk.corpus import stopwords\n",
    "from nltk.stem.porter import PorterStemmer\n",
    "print(stopwords.words('english'))\n",
    "port_stem = PorterStemmer()"
   ]
  },
  {
   "cell_type": "code",
   "execution_count": null,
   "id": "3e447bc1-4def-4ca3-89b3-0ce11ee82bd0",
   "metadata": {},
   "outputs": [],
   "source": [
    "def preprocess_text(text):\n",
    "    # TODO: create a function to clean your data \n",
    "    preprocess_text = re.sub('[^a-zA-Z]',' ',text)\n",
    "    preprocess_text = preprocess_text.lower()\n",
    "    preprocess_text = preprocess_text.split()\n",
    "    preprocess_text = [port_stem.stem(word) for word in preprocess_text if not word in stopwords.words('english')]\n",
    "    preprocess_text = ' '.join(preprocess_text)\n",
    "    return preprocess_text\n",
    "data['text'] = data['text'].apply(preprocess_text)"
   ]
  },
  {
   "cell_type": "code",
   "execution_count": null,
   "id": "0d67df8d-e791-4c72-94c2-14dfb16bc338",
   "metadata": {},
   "outputs": [],
   "source": [
    "data['text']"
   ]
  },
  {
   "cell_type": "markdown",
   "id": "57b30dbe-9ad1-425b-a27c-a222616a8b28",
   "metadata": {},
   "source": [
    "<font size=\"4\">**Converting text into Vectors**</font>"
   ]
  },
  {
   "cell_type": "code",
   "execution_count": null,
   "id": "2acfa649-35c7-462c-9607-6f60d0a3d5e4",
   "metadata": {},
   "outputs": [],
   "source": [
    "data"
   ]
  },
  {
   "cell_type": "code",
   "execution_count": null,
   "id": "9e2ea3e9-54ce-41f0-a9d8-b79105d99339",
   "metadata": {},
   "outputs": [],
   "source": [
    "data.to_csv('news.csv', index=False)\n",
    "\n",
    "print(\"Dataset saved successfully as news.csv\")"
   ]
  },
  {
   "cell_type": "code",
   "execution_count": 3,
   "id": "aac0f0b1-b67e-4c07-863a-9317bfda6082",
   "metadata": {},
   "outputs": [],
   "source": [
    "news = pd.read_csv(\"news.csv\")"
   ]
  },
  {
   "cell_type": "code",
   "execution_count": 4,
   "id": "c5afc39f-26bc-4356-99f6-83ed6c8732e3",
   "metadata": {},
   "outputs": [
    {
     "data": {
      "text/html": [
       "<div>\n",
       "<style scoped>\n",
       "    .dataframe tbody tr th:only-of-type {\n",
       "        vertical-align: middle;\n",
       "    }\n",
       "\n",
       "    .dataframe tbody tr th {\n",
       "        vertical-align: top;\n",
       "    }\n",
       "\n",
       "    .dataframe thead th {\n",
       "        text-align: right;\n",
       "    }\n",
       "</style>\n",
       "<table border=\"1\" class=\"dataframe\">\n",
       "  <thead>\n",
       "    <tr style=\"text-align: right;\">\n",
       "      <th></th>\n",
       "      <th>text</th>\n",
       "      <th>label</th>\n",
       "    </tr>\n",
       "  </thead>\n",
       "  <tbody>\n",
       "    <tr>\n",
       "      <th>0</th>\n",
       "      <td>desper clinton grifter go back campaign trailt...</td>\n",
       "      <td>0</td>\n",
       "    </tr>\n",
       "    <tr>\n",
       "      <th>1</th>\n",
       "      <td>republican tax vote near senat waverwashington...</td>\n",
       "      <td>1</td>\n",
       "    </tr>\n",
       "    <tr>\n",
       "      <th>2</th>\n",
       "      <td>senat panel vote advanc tax billwashington reu...</td>\n",
       "      <td>1</td>\n",
       "    </tr>\n",
       "    <tr>\n",
       "      <th>3</th>\n",
       "      <td>hard irish border post brexit would risk peac ...</td>\n",
       "      <td>1</td>\n",
       "    </tr>\n",
       "    <tr>\n",
       "      <th>4</th>\n",
       "      <td>trump say good talk obama wednesdaypalm beach ...</td>\n",
       "      <td>1</td>\n",
       "    </tr>\n",
       "    <tr>\n",
       "      <th>...</th>\n",
       "      <td>...</td>\n",
       "      <td>...</td>\n",
       "    </tr>\n",
       "    <tr>\n",
       "      <th>44893</th>\n",
       "      <td>watch cartoon destroy trump show presidentdona...</td>\n",
       "      <td>0</td>\n",
       "    </tr>\n",
       "    <tr>\n",
       "      <th>44894</th>\n",
       "      <td>lip teeth china tie north korea fraybeij reute...</td>\n",
       "      <td>1</td>\n",
       "    </tr>\n",
       "    <tr>\n",
       "      <th>44895</th>\n",
       "      <td>flashback undercov video show hillari tell top...</td>\n",
       "      <td>0</td>\n",
       "    </tr>\n",
       "    <tr>\n",
       "      <th>44896</th>\n",
       "      <td>trump twitter may nation peac offic memori ser...</td>\n",
       "      <td>1</td>\n",
       "    </tr>\n",
       "    <tr>\n",
       "      <th>44897</th>\n",
       "      <td>progress brexit talk urgent need germanyberlin...</td>\n",
       "      <td>1</td>\n",
       "    </tr>\n",
       "  </tbody>\n",
       "</table>\n",
       "<p>44898 rows × 2 columns</p>\n",
       "</div>"
      ],
      "text/plain": [
       "                                                    text  label\n",
       "0      desper clinton grifter go back campaign trailt...      0\n",
       "1      republican tax vote near senat waverwashington...      1\n",
       "2      senat panel vote advanc tax billwashington reu...      1\n",
       "3      hard irish border post brexit would risk peac ...      1\n",
       "4      trump say good talk obama wednesdaypalm beach ...      1\n",
       "...                                                  ...    ...\n",
       "44893  watch cartoon destroy trump show presidentdona...      0\n",
       "44894  lip teeth china tie north korea fraybeij reute...      1\n",
       "44895  flashback undercov video show hillari tell top...      0\n",
       "44896  trump twitter may nation peac offic memori ser...      1\n",
       "44897  progress brexit talk urgent need germanyberlin...      1\n",
       "\n",
       "[44898 rows x 2 columns]"
      ]
     },
     "execution_count": 4,
     "metadata": {},
     "output_type": "execute_result"
    }
   ],
   "source": [
    "news"
   ]
  },
  {
   "cell_type": "code",
   "execution_count": 5,
   "id": "f8a9785c-04f9-4335-8781-292c48433d55",
   "metadata": {},
   "outputs": [],
   "source": [
    "X = news['text'].values\n",
    "Y = news['label'].values"
   ]
  },
  {
   "cell_type": "code",
   "execution_count": 6,
   "id": "e0d13764-bc71-413d-9917-c3464eb30af0",
   "metadata": {},
   "outputs": [
    {
     "name": "stderr",
     "output_type": "stream",
     "text": [
      "Intel(R) Extension for Scikit-learn* enabled (https://github.com/intel/scikit-learn-intelex)\n"
     ]
    }
   ],
   "source": [
    "from sklearn.feature_extraction.text import TfidfVectorizer\n",
    "from timeit import default_timer as timer\n",
    "from sklearnex import patch_sklearn\n",
    "patch_sklearn()\n",
    "vectorizer = TfidfVectorizer()\n",
    "vectorizer.fit(X)\n",
    "X = vectorizer.transform(X)"
   ]
  },
  {
   "cell_type": "code",
   "execution_count": 7,
   "id": "00a685b9-7a53-4cad-8e11-c50e67182941",
   "metadata": {},
   "outputs": [
    {
     "name": "stdout",
     "output_type": "stream",
     "text": [
      "  (0, 105660)\t0.11558422691870981\n",
      "  (0, 104270)\t0.0815415289324719\n",
      "  (0, 103941)\t0.03147898664089827\n",
      "  (0, 103717)\t0.07729324632682026\n",
      "  (0, 103471)\t0.07490789095935078\n",
      "  (0, 103357)\t0.06874129281887588\n",
      "  (0, 103109)\t0.03545254920143897\n",
      "  (0, 103047)\t0.0814253767962218\n",
      "  (0, 102796)\t0.11349830656196211\n",
      "  (0, 102733)\t0.027585894070768766\n",
      "  (0, 102666)\t0.03370943285535877\n",
      "  (0, 102134)\t0.053314080450610535\n",
      "  (0, 101478)\t0.03501222554965972\n",
      "  (0, 100800)\t0.038265630327623604\n",
      "  (0, 98808)\t0.02638382055049683\n",
      "  (0, 96703)\t0.024937409634498118\n",
      "  (0, 96244)\t0.034549746182313906\n",
      "  (0, 95493)\t0.019235586221358132\n",
      "  (0, 94792)\t0.1260674057809634\n",
      "  (0, 94178)\t0.023853082630834067\n",
      "  (0, 93616)\t0.022423145733277396\n",
      "  (0, 93194)\t0.041227780678444695\n",
      "  (0, 93063)\t0.028851961879817027\n",
      "  (0, 92657)\t0.08572271295980018\n",
      "  (0, 91105)\t0.031086375730340628\n",
      "  :\t:\n",
      "  (44897, 80851)\t0.03588958170264309\n",
      "  (44897, 78175)\t0.04728366151590679\n",
      "  (44897, 77759)\t0.09487415539457839\n",
      "  (44897, 77022)\t0.13392166462267274\n",
      "  (44897, 76252)\t0.09143678060981295\n",
      "  (44897, 73403)\t0.0962965117043938\n",
      "  (44897, 73333)\t0.17581371484543581\n",
      "  (44897, 73240)\t0.32180706393387826\n",
      "  (44897, 63171)\t0.06419117149303051\n",
      "  (44897, 62810)\t0.2087550766182741\n",
      "  (44897, 62767)\t0.06710259020719972\n",
      "  (44897, 60022)\t0.07921261624854507\n",
      "  (44897, 58456)\t0.13073468183032091\n",
      "  (44897, 55204)\t0.11274316423350009\n",
      "  (44897, 35593)\t0.05989180688959755\n",
      "  (44897, 34175)\t0.24300527377515146\n",
      "  (44897, 34166)\t0.1230348059233592\n",
      "  (44897, 28554)\t0.10369504247700473\n",
      "  (44897, 28450)\t0.12030235355747931\n",
      "  (44897, 18147)\t0.09656256115888978\n",
      "  (44897, 15588)\t0.08590958848501147\n",
      "  (44897, 11602)\t0.23053405898209325\n",
      "  (44897, 11410)\t0.27672159182689066\n",
      "  (44897, 7333)\t0.1906840695375783\n",
      "  (44897, 731)\t0.08144484562650592\n"
     ]
    }
   ],
   "source": [
    "print(X)"
   ]
  },
  {
   "cell_type": "code",
   "execution_count": 8,
   "id": "89e4a55c-2077-4325-b98b-65d025447a66",
   "metadata": {},
   "outputs": [
    {
     "name": "stdout",
     "output_type": "stream",
     "text": [
      "[0 1 1 ... 0 1 1]\n"
     ]
    }
   ],
   "source": [
    "print(Y)"
   ]
  },
  {
   "cell_type": "code",
   "execution_count": 9,
   "id": "14a8236f-38ab-4abf-a697-b9c524820f3a",
   "metadata": {},
   "outputs": [],
   "source": [
    "X_train, X_test, Y_train, Y_test = train_test_split(X, Y, test_size = 0.2, stratify=Y, random_state=2)"
   ]
  },
  {
   "cell_type": "markdown",
   "id": "734e8914-1ac5-4a68-b4cd-69d2c3b8007f",
   "metadata": {
    "tags": []
   },
   "source": [
    "<font size=\"4\"><b>Model training, Evaluation, and Prediction</b></font>"
   ]
  },
  {
   "cell_type": "markdown",
   "id": "8e6ca9f0-8119-4fd3-8f1c-6e25a759ac0d",
   "metadata": {},
   "source": [
    "<font size=\"3\"><b>Logistic Regression:</b></font>"
   ]
  },
  {
   "cell_type": "code",
   "execution_count": 20,
   "id": "3f091196-9e08-42c4-a22d-068a6e20790c",
   "metadata": {},
   "outputs": [
    {
     "name": "stderr",
     "output_type": "stream",
     "text": [
      "Intel(R) Extension for Scikit-learn* enabled (https://github.com/intel/scikit-learn-intelex)\n"
     ]
    },
    {
     "data": {
      "text/plain": [
       "'Intel® extension for Scikit-learn time: 3.08 s'"
      ]
     },
     "execution_count": 20,
     "metadata": {},
     "output_type": "execute_result"
    }
   ],
   "source": [
    "patch_sklearn()\n",
    "start = timer()\n",
    "modellg = LogisticRegression()\n",
    "modellg.fit(X_train, Y_train)\n",
    "train_patched = timer() - start\n",
    "f\"Intel® extension for Scikit-learn time: {train_patched:.2f} s\""
   ]
  },
  {
   "cell_type": "code",
   "execution_count": 21,
   "id": "a65846ac-2a3b-4569-ba9c-aa664d97c267",
   "metadata": {},
   "outputs": [],
   "source": [
    "from sklearnex import unpatch_sklearn\n",
    "unpatch_sklearn()"
   ]
  },
  {
   "cell_type": "code",
   "execution_count": 22,
   "id": "665dac04-01c2-4f2e-9091-e2c33d069db2",
   "metadata": {},
   "outputs": [
    {
     "data": {
      "text/plain": [
       "'Intel® extension for Scikit-learn time: 3.52 s'"
      ]
     },
     "execution_count": 22,
     "metadata": {},
     "output_type": "execute_result"
    }
   ],
   "source": [
    "start = timer()\n",
    "model = LogisticRegression()\n",
    "model.fit(X_train, Y_train)\n",
    "train_patched = timer() - start\n",
    "f\"Intel® extension for Scikit-learn time: {train_patched:.2f} s\""
   ]
  },
  {
   "cell_type": "code",
   "execution_count": 23,
   "id": "07f9a509-fc9a-49d7-bf90-ebf6d879e70b",
   "metadata": {},
   "outputs": [
    {
     "name": "stdout",
     "output_type": "stream",
     "text": [
      "Accuracy score of the test data :  0.9888641425389755\n"
     ]
    }
   ],
   "source": [
    "X_test_prediction = model.predict(X_test)\n",
    "test_data_accuracy = accuracy_score(X_test_prediction, Y_test)\n",
    "print('Accuracy score of the test data : ', test_data_accuracy)"
   ]
  },
  {
   "cell_type": "code",
   "execution_count": 24,
   "id": "c96355de-af2d-401f-9f09-4f1f900bacd7",
   "metadata": {},
   "outputs": [
    {
     "name": "stdout",
     "output_type": "stream",
     "text": [
      "              precision    recall  f1-score   support\n",
      "\n",
      "           0       0.99      0.99      0.99      4696\n",
      "           1       0.98      0.99      0.99      4284\n",
      "\n",
      "    accuracy                           0.99      8980\n",
      "   macro avg       0.99      0.99      0.99      8980\n",
      "weighted avg       0.99      0.99      0.99      8980\n",
      "\n"
     ]
    }
   ],
   "source": [
    "from sklearn.metrics import classification_report\n",
    "print(classification_report(Y_test, X_test_prediction))"
   ]
  },
  {
   "cell_type": "markdown",
   "id": "d76398e0-a3be-404c-89cd-5fe17c96d9cc",
   "metadata": {},
   "source": [
    "<font size=\"3\"><b>Decision Tree:</b></font>\n"
   ]
  },
  {
   "cell_type": "code",
   "execution_count": 27,
   "id": "758fb220-65a9-4b83-89ae-2587a409c2e0",
   "metadata": {},
   "outputs": [
    {
     "name": "stderr",
     "output_type": "stream",
     "text": [
      "Intel(R) Extension for Scikit-learn* enabled (https://github.com/intel/scikit-learn-intelex)\n"
     ]
    },
    {
     "data": {
      "text/plain": [
       "'Intel® extension for Scikit-learn time: 25.01 s'"
      ]
     },
     "execution_count": 27,
     "metadata": {},
     "output_type": "execute_result"
    }
   ],
   "source": [
    "from sklearn.tree import DecisionTreeClassifier\n",
    "patch_sklearn()\n",
    "start = timer()\n",
    "DT = DecisionTreeClassifier()\n",
    "DT.fit(X_train, Y_train)\n",
    "train_patched = timer() - start\n",
    "f\"Intel® extension for Scikit-learn time: {train_patched:.2f} s\""
   ]
  },
  {
   "cell_type": "code",
   "execution_count": 29,
   "id": "52938b19-114d-45e9-9c07-e564e2911fcb",
   "metadata": {},
   "outputs": [
    {
     "data": {
      "text/plain": [
       "'Scikit-learn time: 25.04 s'"
      ]
     },
     "execution_count": 29,
     "metadata": {},
     "output_type": "execute_result"
    }
   ],
   "source": [
    "from sklearn.tree import DecisionTreeClassifier\n",
    "from timeit import default_timer as timer\n",
    "\n",
    "unpatch_sklearn()\n",
    "start = timer()\n",
    "DT = DecisionTreeClassifier()\n",
    "DT.fit(X_train, Y_train)\n",
    "train_time = timer() - start\n",
    "f\"Scikit-learn time: {train_time:.2f} s\""
   ]
  },
  {
   "cell_type": "code",
   "execution_count": 30,
   "id": "0ed53059-77ad-4b60-a333-c32498dcf3e2",
   "metadata": {},
   "outputs": [
    {
     "data": {
      "text/plain": [
       "0.9965478841870824"
      ]
     },
     "execution_count": 30,
     "metadata": {},
     "output_type": "execute_result"
    }
   ],
   "source": [
    "pred_dt = DT.predict(X_test)\n",
    "DT.score(X_test, Y_test)"
   ]
  },
  {
   "cell_type": "code",
   "execution_count": 31,
   "id": "4afd0528-ca69-4e62-bfca-50e2dd50e1d0",
   "metadata": {},
   "outputs": [
    {
     "name": "stdout",
     "output_type": "stream",
     "text": [
      "              precision    recall  f1-score   support\n",
      "\n",
      "           0       1.00      1.00      1.00      4696\n",
      "           1       1.00      1.00      1.00      4284\n",
      "\n",
      "    accuracy                           1.00      8980\n",
      "   macro avg       1.00      1.00      1.00      8980\n",
      "weighted avg       1.00      1.00      1.00      8980\n",
      "\n"
     ]
    }
   ],
   "source": [
    "print(classification_report(Y_test, pred_dt))"
   ]
  },
  {
   "cell_type": "markdown",
   "id": "74b3e174-492e-4251-acc4-0708936e58cc",
   "metadata": {},
   "source": [
    "<font size=\"3\"><b>Random Forest:</b></font>\n"
   ]
  },
  {
   "cell_type": "code",
   "execution_count": 32,
   "id": "21c3e4c6-8807-4548-a7e3-70d19abdde02",
   "metadata": {},
   "outputs": [
    {
     "name": "stderr",
     "output_type": "stream",
     "text": [
      "Intel(R) Extension for Scikit-learn* enabled (https://github.com/intel/scikit-learn-intelex)\n"
     ]
    },
    {
     "data": {
      "text/plain": [
       "'Intel® extension for Scikit-learn time: 67.43 s'"
      ]
     },
     "execution_count": 32,
     "metadata": {},
     "output_type": "execute_result"
    }
   ],
   "source": [
    "from sklearn.ensemble import RandomForestClassifier\n",
    "patch_sklearn()\n",
    "start = timer()\n",
    "rf = RandomForestClassifier(random_state=0)\n",
    "rf.fit(X_train, Y_train)\n",
    "train_patched = timer() - start\n",
    "f\"Intel® extension for Scikit-learn time: {train_patched:.2f} s\""
   ]
  },
  {
   "cell_type": "code",
   "execution_count": 33,
   "id": "0b8419bd-28d8-4f0a-827e-c56f0293454d",
   "metadata": {},
   "outputs": [
    {
     "data": {
      "text/plain": [
       "'Scikit-learn time: 67.57 s'"
      ]
     },
     "execution_count": 33,
     "metadata": {},
     "output_type": "execute_result"
    }
   ],
   "source": [
    "unpatch_sklearn()\n",
    "start = timer()\n",
    "rf = RandomForestClassifier(random_state=0)\n",
    "rf.fit(X_train, Y_train)\n",
    "train_patched = timer() - start\n",
    "f\"Scikit-learn time: {train_patched:.2f} s\""
   ]
  },
  {
   "cell_type": "code",
   "execution_count": 34,
   "id": "31bda2f8-4983-4124-a78f-6911ebc846ec",
   "metadata": {},
   "outputs": [
    {
     "data": {
      "text/plain": [
       "array([1, 1, 0, ..., 0, 0, 0])"
      ]
     },
     "execution_count": 34,
     "metadata": {},
     "output_type": "execute_result"
    }
   ],
   "source": [
    "rf.predict(X_test)"
   ]
  },
  {
   "cell_type": "code",
   "execution_count": 35,
   "id": "6aeec400-e1c2-4c5b-aab6-bbd346c5424a",
   "metadata": {},
   "outputs": [
    {
     "data": {
      "text/plain": [
       "0.9924276169265034"
      ]
     },
     "execution_count": 35,
     "metadata": {},
     "output_type": "execute_result"
    }
   ],
   "source": [
    "rf.score(X_test, Y_test)"
   ]
  },
  {
   "cell_type": "code",
   "execution_count": 36,
   "id": "ab68133a-2822-4d14-9c92-5d9530099130",
   "metadata": {},
   "outputs": [
    {
     "name": "stdout",
     "output_type": "stream",
     "text": [
      "              precision    recall  f1-score   support\n",
      "\n",
      "           0       0.99      0.99      0.99      4696\n",
      "           1       0.99      0.99      0.99      4284\n",
      "\n",
      "    accuracy                           0.99      8980\n",
      "   macro avg       0.99      0.99      0.99      8980\n",
      "weighted avg       0.99      0.99      0.99      8980\n",
      "\n"
     ]
    }
   ],
   "source": [
    "from sklearn.metrics import classification_report\n",
    "\n",
    "# Generate predictions using the trained Random Forest model\n",
    "pred_rf = rf.predict(X_test)\n",
    "\n",
    "# Print the classification report\n",
    "print(classification_report(Y_test, pred_rf))"
   ]
  },
  {
   "cell_type": "markdown",
   "id": "8cb09902-5a50-4093-a9f2-b2d7019c5a64",
   "metadata": {},
   "source": [
    "<font size=\"4\"><b>Model Comparison</b></font>"
   ]
  },
  {
   "cell_type": "code",
   "execution_count": 37,
   "id": "10695133-29fa-48dd-bcab-72ebe1c4047e",
   "metadata": {},
   "outputs": [
    {
     "data": {
      "image/png": "[encoded data removed]",
      "text/plain": [
       "<Figure size 800x600 with 1 Axes>"
      ]
     },
     "metadata": {},
     "output_type": "display_data"
    }
   ],
   "source": [
    "import matplotlib.pyplot as plt\n",
    "\n",
    "# Accuracy scores for each model\n",
    "accuracy_scores = [test_data_accuracy, DT.score(X_test, Y_test), rf.score(X_test, Y_test)]\n",
    "\n",
    "# Model names\n",
    "model_names = ['Logistic Regression', 'Decision Tree', 'Random Forest']\n",
    "\n",
    "# Plotting the accuracy scores\n",
    "plt.figure(figsize=(8, 6))\n",
    "plt.bar(model_names, accuracy_scores)\n",
    "plt.xlabel('Models')\n",
    "plt.ylabel('Accuracy Score')\n",
    "plt.title('Comparison of Model Accuracy')\n",
    "plt.ylim(0.95, 1.0)  # Set the y-axis limits if desired\n",
    "plt.show()"
   ]
  },
  {
   "cell_type": "code",
   "execution_count": 22,
   "id": "8b881260-c7a2-4e83-bcf2-4ce210f98e41",
   "metadata": {},
   "outputs": [],
   "source": [
    "import pickle\n",
    "with open('logistic_regression_model.pkl', 'wb') as file:\n",
    "    pickle.dump(modellg, file)"
   ]
  },
  {
   "cell_type": "code",
   "execution_count": 23,
   "id": "c422438c-25cd-48db-b4ab-6c81db799023",
   "metadata": {},
   "outputs": [],
   "source": [
    "with open('decision_tree_model.pkl', 'wb') as file:\n",
    "    pickle.dump(DT, file)"
   ]
  },
  {
   "cell_type": "code",
   "execution_count": 12,
   "id": "4d4b6f8d-61f1-47a6-b73c-6671fd291b29",
   "metadata": {},
   "outputs": [],
   "source": [
    "import pickle\n",
    "with open('random_forest_model.pkl', 'wb') as file:\n",
    "    pickle.dump(rf, file)"
   ]
  },
  {
   "cell_type": "code",
   "execution_count": null,
   "id": "5a5d139f-a2a5-47c8-b318-f9bd2fe5a2d9",
   "metadata": {},
   "outputs": [],
   "source": []
  }
 ],
 "metadata": {
  "kernelspec": {
   "display_name": "fakenews",
   "language": "python",
   "name": "fakenews"
  },
  "language_info": {
   "codemirror_mode": {
    "name": "ipython",
    "version": 3
   },
   "file_extension": ".py",
   "mimetype": "text/x-python",
   "name": "python",
   "nbconvert_exporter": "python",
   "pygments_lexer": "ipython3",
   "version": "3.9.16"
  }
 },
 "nbformat": 4,
 "nbformat_minor": 5
}
